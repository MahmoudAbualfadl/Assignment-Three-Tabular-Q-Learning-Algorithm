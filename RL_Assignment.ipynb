{
  "nbformat": 4,
  "nbformat_minor": 0,
  "metadata": {
    "colab": {
      "provenance": []
    },
    "kernelspec": {
      "name": "python3",
      "display_name": "Python 3"
    },
    "language_info": {
      "name": "python"
    }
  },
  "cells": [
    {
      "cell_type": "code",
      "execution_count": 1,
      "metadata": {
        "id": "jNXmI2YxeaRt"
      },
      "outputs": [],
      "source": [
        "import gym\n",
        "import random\n",
        "import numpy as np\n",
        "import matplotlib.pyplot as plt"
      ]
    },
    {
      "cell_type": "code",
      "source": [
        "env = gym.make('CliffWalking-v0')\n",
        "env.reset()"
      ],
      "metadata": {
        "id": "cwZvj0zwel83",
        "colab": {
          "base_uri": "https://localhost:8080/"
        },
        "outputId": "1a9382c9-e71e-4b82-957e-8ad700be826a"
      },
      "execution_count": 2,
      "outputs": [
        {
          "output_type": "stream",
          "name": "stderr",
          "text": [
            "/usr/local/lib/python3.10/dist-packages/ipykernel/ipkernel.py:283: DeprecationWarning: `should_run_async` will not call `transform_cell` automatically in the future. Please pass the result to `transformed_cell` argument and any exception that happen during thetransform in `preprocessing_exc_tuple` in IPython 7.17 and above.\n",
            "  and should_run_async(code)\n",
            "/usr/local/lib/python3.10/dist-packages/gym/core.py:317: DeprecationWarning: \u001b[33mWARN: Initializing wrapper in old step API which returns one bool instead of two. It is recommended to set `new_step_api=True` to use new step API. This will be the default behaviour in future.\u001b[0m\n",
            "  deprecation(\n",
            "/usr/local/lib/python3.10/dist-packages/gym/wrappers/step_api_compatibility.py:39: DeprecationWarning: \u001b[33mWARN: Initializing environment in old step API which returns one bool instead of two. It is recommended to set `new_step_api=True` to use new step API. This will be the default behaviour in future.\u001b[0m\n",
            "  deprecation(\n"
          ]
        },
        {
          "output_type": "execute_result",
          "data": {
            "text/plain": [
              "36"
            ]
          },
          "metadata": {},
          "execution_count": 2
        }
      ]
    },
    {
      "cell_type": "code",
      "source": [
        "alpha = 0.1  # Learning rate\n",
        "gamma = 0.99  # Discount factor\n",
        "epsilon = 0.1  # Epsilon-greedy parameter\n",
        "episodes = 500  # Number of episodes"
      ],
      "metadata": {
        "id": "DZSMrlHIeoFf"
      },
      "execution_count": 3,
      "outputs": []
    },
    {
      "cell_type": "code",
      "source": [
        "q_table_q_learning = np.zeros((env.observation_space.n, env.action_space.n))\n",
        "print(q_table_q_learning)"
      ],
      "metadata": {
        "id": "nZtFXNeTevuw",
        "colab": {
          "base_uri": "https://localhost:8080/"
        },
        "outputId": "2043cd84-e279-44d0-d58f-70d011cee022"
      },
      "execution_count": 4,
      "outputs": [
        {
          "output_type": "stream",
          "name": "stdout",
          "text": [
            "[[0. 0. 0. 0.]\n",
            " [0. 0. 0. 0.]\n",
            " [0. 0. 0. 0.]\n",
            " [0. 0. 0. 0.]\n",
            " [0. 0. 0. 0.]\n",
            " [0. 0. 0. 0.]\n",
            " [0. 0. 0. 0.]\n",
            " [0. 0. 0. 0.]\n",
            " [0. 0. 0. 0.]\n",
            " [0. 0. 0. 0.]\n",
            " [0. 0. 0. 0.]\n",
            " [0. 0. 0. 0.]\n",
            " [0. 0. 0. 0.]\n",
            " [0. 0. 0. 0.]\n",
            " [0. 0. 0. 0.]\n",
            " [0. 0. 0. 0.]\n",
            " [0. 0. 0. 0.]\n",
            " [0. 0. 0. 0.]\n",
            " [0. 0. 0. 0.]\n",
            " [0. 0. 0. 0.]\n",
            " [0. 0. 0. 0.]\n",
            " [0. 0. 0. 0.]\n",
            " [0. 0. 0. 0.]\n",
            " [0. 0. 0. 0.]\n",
            " [0. 0. 0. 0.]\n",
            " [0. 0. 0. 0.]\n",
            " [0. 0. 0. 0.]\n",
            " [0. 0. 0. 0.]\n",
            " [0. 0. 0. 0.]\n",
            " [0. 0. 0. 0.]\n",
            " [0. 0. 0. 0.]\n",
            " [0. 0. 0. 0.]\n",
            " [0. 0. 0. 0.]\n",
            " [0. 0. 0. 0.]\n",
            " [0. 0. 0. 0.]\n",
            " [0. 0. 0. 0.]\n",
            " [0. 0. 0. 0.]\n",
            " [0. 0. 0. 0.]\n",
            " [0. 0. 0. 0.]\n",
            " [0. 0. 0. 0.]\n",
            " [0. 0. 0. 0.]\n",
            " [0. 0. 0. 0.]\n",
            " [0. 0. 0. 0.]\n",
            " [0. 0. 0. 0.]\n",
            " [0. 0. 0. 0.]\n",
            " [0. 0. 0. 0.]\n",
            " [0. 0. 0. 0.]\n",
            " [0. 0. 0. 0.]]\n"
          ]
        }
      ]
    },
    {
      "cell_type": "code",
      "source": [
        "action = env.action_space.sample( )\n",
        "# 2. Implement this action and move the agent in the desired direction\n",
        "state, reward, done, info = env.step(action)\n",
        "# Display the results ( reward and map)\n",
        "env.render()\n",
        "print(f\"Reward = {reward}\")"
      ],
      "metadata": {
        "id": "cPvK3k7CUV5e",
        "colab": {
          "base_uri": "https://localhost:8080/"
        },
        "outputId": "36c2e56b-2e86-424a-b65c-fe8e36ce2cf8"
      },
      "execution_count": 5,
      "outputs": [
        {
          "output_type": "stream",
          "name": "stderr",
          "text": [
            "/usr/local/lib/python3.10/dist-packages/gym/utils/passive_env_checker.py:241: DeprecationWarning: `np.bool8` is a deprecated alias for `np.bool_`.  (Deprecated NumPy 1.24)\n",
            "  if not isinstance(terminated, (bool, np.bool8)):\n",
            "/usr/local/lib/python3.10/dist-packages/gym/core.py:49: DeprecationWarning: \u001b[33mWARN: You are calling render method, but you didn't specified the argument render_mode at environment initialization. To maintain backward compatibility, the environment will render in human mode.\n",
            "If you want to render in human mode, initialize the environment in this way: gym.make('EnvName', render_mode='human') and don't call the render method.\n",
            "See here for more information: https://www.gymlibrary.ml/content/api/\u001b[0m\n",
            "  deprecation(\n",
            "/usr/local/lib/python3.10/dist-packages/pygame/pkgdata.py:25: DeprecationWarning: pkg_resources is deprecated as an API. See https://setuptools.pypa.io/en/latest/pkg_resources.html\n",
            "  from pkg_resources import resource_stream, resource_exists\n",
            "/usr/local/lib/python3.10/dist-packages/pkg_resources/__init__.py:3154: DeprecationWarning: Deprecated call to `pkg_resources.declare_namespace('google')`.\n",
            "Implementing implicit namespace packages (as specified in PEP 420) is preferred to `pkg_resources.declare_namespace`. See https://setuptools.pypa.io/en/latest/references/keywords.html#keyword-namespace-packages\n",
            "  declare_namespace(pkg)\n",
            "/usr/local/lib/python3.10/dist-packages/pkg_resources/__init__.py:3154: DeprecationWarning: Deprecated call to `pkg_resources.declare_namespace('google.cloud')`.\n",
            "Implementing implicit namespace packages (as specified in PEP 420) is preferred to `pkg_resources.declare_namespace`. See https://setuptools.pypa.io/en/latest/references/keywords.html#keyword-namespace-packages\n",
            "  declare_namespace(pkg)\n",
            "/usr/local/lib/python3.10/dist-packages/pkg_resources/__init__.py:3154: DeprecationWarning: Deprecated call to `pkg_resources.declare_namespace('sphinxcontrib')`.\n",
            "Implementing implicit namespace packages (as specified in PEP 420) is preferred to `pkg_resources.declare_namespace`. See https://setuptools.pypa.io/en/latest/references/keywords.html#keyword-namespace-packages\n",
            "  declare_namespace(pkg)\n"
          ]
        },
        {
          "output_type": "stream",
          "name": "stdout",
          "text": [
            "Reward = -1\n"
          ]
        }
      ]
    },
    {
      "cell_type": "code",
      "source": [
        "env.reset()\n",
        "env.render()"
      ],
      "metadata": {
        "id": "vb_u8Ie7VdzY",
        "colab": {
          "base_uri": "https://localhost:8080/"
        },
        "outputId": "ea0ad7a6-b80e-4d97-9300-c46a830c97d8"
      },
      "execution_count": 6,
      "outputs": [
        {
          "output_type": "stream",
          "name": "stderr",
          "text": [
            "/usr/local/lib/python3.10/dist-packages/ipykernel/ipkernel.py:283: DeprecationWarning: `should_run_async` will not call `transform_cell` automatically in the future. Please pass the result to `transformed_cell` argument and any exception that happen during thetransform in `preprocessing_exc_tuple` in IPython 7.17 and above.\n",
            "  and should_run_async(code)\n",
            "/usr/local/lib/python3.10/dist-packages/gym/core.py:49: DeprecationWarning: \u001b[33mWARN: You are calling render method, but you didn't specified the argument render_mode at environment initialization. To maintain backward compatibility, the environment will render in human mode.\n",
            "If you want to render in human mode, initialize the environment in this way: gym.make('EnvName', render_mode='human') and don't call the render method.\n",
            "See here for more information: https://www.gymlibrary.ml/content/api/\u001b[0m\n",
            "  deprecation(\n"
          ]
        }
      ]
    },
    {
      "cell_type": "code",
      "execution_count": 7,
      "metadata": {
        "id": "aW5Mkgy_O3J9",
        "colab": {
          "base_uri": "https://localhost:8080/"
        },
        "outputId": "f1c4a679-b087-48fc-dda3-80c9d9f0779c"
      },
      "outputs": [
        {
          "output_type": "stream",
          "name": "stdout",
          "text": [
            "Q-table before training:\n",
            "[[0. 0. 0. 0.]\n",
            " [0. 0. 0. 0.]\n",
            " [0. 0. 0. 0.]\n",
            " [0. 0. 0. 0.]\n",
            " [0. 0. 0. 0.]\n",
            " [0. 0. 0. 0.]\n",
            " [0. 0. 0. 0.]\n",
            " [0. 0. 0. 0.]\n",
            " [0. 0. 0. 0.]\n",
            " [0. 0. 0. 0.]\n",
            " [0. 0. 0. 0.]\n",
            " [0. 0. 0. 0.]\n",
            " [0. 0. 0. 0.]\n",
            " [0. 0. 0. 0.]\n",
            " [0. 0. 0. 0.]\n",
            " [0. 0. 0. 0.]\n",
            " [0. 0. 0. 0.]\n",
            " [0. 0. 0. 0.]\n",
            " [0. 0. 0. 0.]\n",
            " [0. 0. 0. 0.]\n",
            " [0. 0. 0. 0.]\n",
            " [0. 0. 0. 0.]\n",
            " [0. 0. 0. 0.]\n",
            " [0. 0. 0. 0.]\n",
            " [0. 0. 0. 0.]\n",
            " [0. 0. 0. 0.]\n",
            " [0. 0. 0. 0.]\n",
            " [0. 0. 0. 0.]\n",
            " [0. 0. 0. 0.]\n",
            " [0. 0. 0. 0.]\n",
            " [0. 0. 0. 0.]\n",
            " [0. 0. 0. 0.]\n",
            " [0. 0. 0. 0.]\n",
            " [0. 0. 0. 0.]\n",
            " [0. 0. 0. 0.]\n",
            " [0. 0. 0. 0.]\n",
            " [0. 0. 0. 0.]\n",
            " [0. 0. 0. 0.]\n",
            " [0. 0. 0. 0.]\n",
            " [0. 0. 0. 0.]\n",
            " [0. 0. 0. 0.]\n",
            " [0. 0. 0. 0.]\n",
            " [0. 0. 0. 0.]\n",
            " [0. 0. 0. 0.]\n",
            " [0. 0. 0. 0.]\n",
            " [0. 0. 0. 0.]\n",
            " [0. 0. 0. 0.]\n",
            " [0. 0. 0. 0.]]\n"
          ]
        }
      ],
      "source": [
        "# Hyperparameters\n",
        "episodes = 1000        # Total number of episodes\n",
        "alpha = 0.5            # Learning rate\n",
        "gamma = 0.9            # Discount\n",
        "\n",
        "# List of outcomes to plot\n",
        "outcomes = []\n",
        "\n",
        "print('Q-table before training:')\n",
        "print(q_table_q_learning)"
      ]
    },
    {
      "cell_type": "code",
      "execution_count": 8,
      "metadata": {
        "id": "aea25a9a"
      },
      "outputs": [],
      "source": [
        "total_reward = 0\n",
        "eps_reward = []\n",
        "\n",
        "for i in range(episodes):\n",
        "    state = env.reset()\n",
        "    done = False\n",
        "    # Until the agent gets stuck in a hole or reaches the goal , keep training it\n",
        "    while not done:\n",
        "    # Choose the action with the highest value in the current state\n",
        "        if np.max(q_table_q_learning[state]) < 0:\n",
        "            action = np.argmax(q_table_q_learning[state])\n",
        "        # If there's no best action ( only zeros ) , take a random one\n",
        "        else:\n",
        "            action = env.action_space.sample()\n",
        "        # Implement this action and move the agent in the desired direction\n",
        "        new_state , reward , done, info = env.step(action)\n",
        "        # Update Q (s, a )\n",
        "        q_table_q_learning[state, action] = q_table_q_learning[state, action] + alpha * ( reward + gamma*np.max(q_table_q_learning[new_state]) - q_table_q_learning[state , action])\n",
        "        # Update our current state\n",
        "        state = new_state\n",
        "        # If we have a reward , it means that our outcome is a success\n",
        "#         if reward:\n",
        "#             outcomes[-1] = (\"Success\")\n",
        "        total_reward += reward\n",
        "    eps_reward.append(total_reward)\n",
        "    total_reward = 0"
      ]
    },
    {
      "cell_type": "code",
      "execution_count": 9,
      "metadata": {
        "id": "f7daed03",
        "colab": {
          "base_uri": "https://localhost:8080/",
          "height": 1000
        },
        "outputId": "823aa168-c39a-4ea1-87cc-d64820b4985a"
      },
      "outputs": [
        {
          "output_type": "stream",
          "name": "stdout",
          "text": [
            "=========================\n",
            "Q-table after training:\n",
            "[[ -6.93228473  -6.92872634  -6.87651761  -6.92643132]\n",
            " [ -6.76466455  -6.78390696  -6.77599603  -6.90322937]\n",
            " [ -6.59438374  -6.54769055  -6.67662355  -6.52925495]\n",
            " [ -6.22646397  -6.26500324  -6.35310283  -6.4023986 ]\n",
            " [ -5.98384415  -5.97310218  -5.98215167  -6.08272588]\n",
            " [ -5.77246752  -5.60832596  -5.58804601  -5.95298972]\n",
            " [ -5.25158573  -5.20330985  -5.32405399  -5.20243605]\n",
            " [ -4.80969916  -4.78644555  -4.85320213  -4.88664162]\n",
            " [ -4.46168331  -4.34154291  -4.3514977   -4.33905586]\n",
            " [ -4.01263061  -3.85484777  -3.88294187  -4.18036652]\n",
            " [ -3.36579569  -3.28421995  -3.34317939  -3.37375433]\n",
            " [ -2.93924895  -3.01662704  -2.68540951  -2.70613389]\n",
            " [ -6.99937937  -7.01626375  -7.10024422  -7.08010976]\n",
            " [ -6.89947417  -6.78897437  -6.82872024  -6.94384368]\n",
            " [ -6.66835729  -6.53081458  -6.6008253   -6.7684232 ]\n",
            " [ -6.34827993  -6.23376297  -6.26417236  -6.45104489]\n",
            " [ -5.97651755  -5.85722838  -5.98825676  -6.16103266]\n",
            " [ -5.49102048  -5.46635442  -5.52330299  -5.69815413]\n",
            " [ -5.23795307  -5.02909704  -5.11415546  -5.07400645]\n",
            " [ -4.80053726  -4.56277305  -4.59326849  -4.55791894]\n",
            " [ -4.06133149  -4.02649775  -4.01365887  -4.2621567 ]\n",
            " [ -3.77083432  -3.39805232  -3.40728218  -3.96800096]\n",
            " [ -3.14146998  -2.69666718  -2.70313139  -3.03923328]\n",
            " [ -2.36432578  -2.17645313  -1.89988159  -2.04606599]\n",
            " [ -7.20174067  -7.17570464  -7.33152498  -7.22610427]\n",
            " [ -6.9326926   -6.86189404 -88.41265625  -7.09917027]\n",
            " [ -6.52039809  -6.5132156  -50.74334375  -6.64498968]\n",
            " [ -6.29593747  -6.12579511 -89.14351953  -6.17044362]\n",
            " [ -5.84421951  -5.6953279  -76.62140361  -5.93729383]\n",
            " [ -5.42122706  -5.217031   -50.225       -5.42524834]\n",
            " [ -4.95540428  -4.68559    -89.86564398  -4.72823487]\n",
            " [ -4.28742738  -4.0951     -51.48152892  -4.3469748 ]\n",
            " [ -3.90138079  -3.439      -51.59317101  -3.70982438]\n",
            " [ -3.04286443  -2.71       -51.32266203  -2.82528552]\n",
            " [ -2.02871094  -1.9        -51.53361554  -1.93040703]\n",
            " [ -1.296875    -1.33125     -1.          -1.18875   ]\n",
            " [ -7.45813417 -75.          -7.46882015  -7.56243913]\n",
            " [  0.           0.           0.           0.        ]\n",
            " [  0.           0.           0.           0.        ]\n",
            " [  0.           0.           0.           0.        ]\n",
            " [  0.           0.           0.           0.        ]\n",
            " [  0.           0.           0.           0.        ]\n",
            " [  0.           0.           0.           0.        ]\n",
            " [  0.           0.           0.           0.        ]\n",
            " [  0.           0.           0.           0.        ]\n",
            " [  0.           0.           0.           0.        ]\n",
            " [  0.           0.           0.           0.        ]\n",
            " [  0.           0.           0.           0.        ]]\n"
          ]
        },
        {
          "output_type": "execute_result",
          "data": {
            "text/plain": [
              "[<matplotlib.lines.Line2D at 0x7e10be4b2fe0>]"
            ]
          },
          "metadata": {},
          "execution_count": 9
        },
        {
          "output_type": "display_data",
          "data": {
            "text/plain": [
              "<Figure size 1200x500 with 1 Axes>"
            ],
            "image/png": "[encoded data removed]"
          },
          "metadata": {}
        }
      ],
      "source": [
        "print('=========================')\n",
        "print('Q-table after training:')\n",
        "print(q_table_q_learning)\n",
        "# Plot reward\n",
        "plt.figure(figsize=(12, 5))\n",
        "plt.xlabel(\"episode\")\n",
        "plt.ylabel(\"episode reward\")\n",
        "plt.title(\"Episode reward with greedy aglorithm\")\n",
        "plt.plot(range(len(eps_reward)), eps_reward)"
      ]
    },
    {
      "cell_type": "code",
      "source": [
        "def test_policy(q_table):\n",
        "    state = env.reset()\n",
        "    done = False\n",
        "    total_reward = 0\n",
        "\n",
        "    while not done:\n",
        "        action = np.argmax(q_table[state])\n",
        "        state, reward, done, _ = env.step(action)\n",
        "        total_reward += reward\n",
        "\n",
        "    return total_reward\n",
        "\n",
        "print(\"\\nTesting Q-learning policy:\")\n",
        "q_learning_reward = test_policy(q_table_q_learning)\n",
        "print(f\"Total reward: {q_learning_reward}\")\n",
        "\n",
        "\n"
      ],
      "metadata": {
        "id": "9SIj3dfCfFpg",
        "colab": {
          "base_uri": "https://localhost:8080/"
        },
        "outputId": "a4de3407-dd47-455e-e9c2-c0ae9f9706ba"
      },
      "execution_count": 10,
      "outputs": [
        {
          "output_type": "stream",
          "name": "stdout",
          "text": [
            "\n",
            "Testing Q-learning policy:\n",
            "Total reward: -13\n"
          ]
        }
      ]
    },
    {
      "source": [
        "# Add the necessary import statement at the beginning of your code\n",
        "import matplotlib.pyplot as plt\n",
        "import gym\n",
        "import numpy as np\n",
        "# Assuming 'outcomes' should store rewards over episodes\n",
        "outcomes = []\n",
        "\n",
        "alpha = 0.1  # Learning rate\n",
        "gamma = 0.99  # Discount factor\n",
        "epsilon = 0.1  # Epsilon-greedy parameter\n",
        "episodes = 500  # Number of episodes\n",
        "q_table_q_learning = np.zeros((env.observation_space.n, env.action_space.n))\n",
        "\n",
        "\n",
        "def epsilon_greedy_policy(state, q_table):\n",
        "    if np.random.rand() < epsilon:\n",
        "        return env.action_space.sample()\n",
        "    else:\n",
        "        return np.argmax(q_table[state])\n",
        "\n",
        "for episode in range(episodes):\n",
        "    state = env.reset()\n",
        "    done = False\n",
        "    total_reward = 0  # Initialize total reward for the episode\n",
        "\n",
        "    while not done:\n",
        "        action = epsilon_greedy_policy(state, q_table_q_learning)\n",
        "        next_state, reward, done, _ = env.step(action)\n",
        "\n",
        "        best_next_action = np.argmax(q_table_q_learning[next_state])\n",
        "        td_target = reward + gamma * q_table_q_learning[next_state][best_next_action]\n",
        "        td_error = td_target - q_table_q_learning[state][action]\n",
        "        q_table_q_learning[state][action] += alpha * td_error\n",
        "\n",
        "        state = next_state\n",
        "        total_reward += reward  # Accumulate reward for the episode\n",
        "\n",
        "    outcomes.append(total_reward)  # Store the total reward for the episode\n",
        "\n",
        "\n",
        "# Plot outcomes\n",
        "plt.figure(figsize=(12, 5))\n",
        "plt.xlabel(\"Run number\")\n",
        "plt.ylabel(\"Outcome\")\n",
        "ax = plt.gca()\n",
        "ax.set_facecolor('#efeeea')\n",
        "plt.bar(range(len(outcomes)), outcomes, color=\"#0A047A\", width=1.0)\n",
        "plt.show()"
      ],
      "cell_type": "code",
      "metadata": {
        "id": "19QP-rAji9ZF",
        "colab": {
          "base_uri": "https://localhost:8080/",
          "height": 470
        },
        "outputId": "6998b541-f735-4763-d2ed-baa5ff11b19d"
      },
      "execution_count": 11,
      "outputs": [
        {
          "output_type": "display_data",
          "data": {
            "text/plain": [
              "<Figure size 1200x500 with 1 Axes>"
            ],
            "image/png": "[encoded data removed]"
          },
          "metadata": {}
        }
      ]
    },
    {
      "cell_type": "code",
      "source": [],
      "metadata": {
        "id": "gNf-eKBNbnq3"
      },
      "execution_count": 11,
      "outputs": []
    },
    {
      "cell_type": "code",
      "source": [
        "def test_policy(q_table):\n",
        "    state = env.reset()\n",
        "    done = False\n",
        "    total_reward = 0\n",
        "\n",
        "    while not done:\n",
        "        action = np.argmax(q_table[state])\n",
        "        state, reward, done, _ = env.step(action)\n",
        "        total_reward += reward\n",
        "\n",
        "    return total_reward\n",
        "\n",
        "print(\"\\nTesting Q-learning policy:\")\n",
        "q_learning_reward = test_policy(q_table_q_learning)\n",
        "print(f\"Total reward: {q_learning_reward}\")\n",
        "\n",
        "\n"
      ],
      "metadata": {
        "id": "JXDdYmK5boJn",
        "colab": {
          "base_uri": "https://localhost:8080/"
        },
        "outputId": "ac0d8ae1-9144-41be-d7fc-a64056522510"
      },
      "execution_count": 12,
      "outputs": [
        {
          "output_type": "stream",
          "name": "stdout",
          "text": [
            "\n",
            "Testing Q-learning policy:\n",
            "Total reward: -13\n"
          ]
        }
      ]
    }
  ]
}